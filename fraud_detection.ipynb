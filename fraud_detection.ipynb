{
 "cells": [
  {
   "cell_type": "code",
   "execution_count": 1,
   "metadata": {
    "collapsed": true
   },
   "outputs": [],
   "source": [
    "import pandas as pd\n",
    "import numpy as np\n",
    "from encoder import Encoder\n",
    "\n",
    "from sklearn.model_selection import train_test_split, GridSearchCV, StratifiedKFold\n",
    "from sklearn.linear_model import LogisticRegression\n",
    "from sklearn.metrics import log_loss, roc_curve, roc_auc_score, confusion_matrix, accuracy_score\n",
    "from sklearn.ensemble import (RandomForestClassifier, \n",
    "                              GradientBoostingClassifier, \n",
    "                              AdaBoostClassifier)\n",
    "\n",
    "\n",
    "\n",
    "import xgboost as xgb \n",
    "\n",
    "import seaborn as sns\n",
    "sns.set(style=\"ticks\", color_codes=True)\n",
    "import matplotlib.pyplot as plt\n",
    "%matplotlib inline"
   ]
  },
  {
   "cell_type": "code",
   "execution_count": 2,
   "metadata": {
    "collapsed": true
   },
   "outputs": [],
   "source": [
    "ip_data = pd.read_csv('data/IpAddress_to_Country.csv')"
   ]
  },
  {
   "cell_type": "code",
   "execution_count": 3,
   "metadata": {},
   "outputs": [
    {
     "data": {
      "text/html": [
       "<div>\n",
       "<style scoped>\n",
       "    .dataframe tbody tr th:only-of-type {\n",
       "        vertical-align: middle;\n",
       "    }\n",
       "\n",
       "    .dataframe tbody tr th {\n",
       "        vertical-align: top;\n",
       "    }\n",
       "\n",
       "    .dataframe thead th {\n",
       "        text-align: right;\n",
       "    }\n",
       "</style>\n",
       "<table border=\"1\" class=\"dataframe\">\n",
       "  <thead>\n",
       "    <tr style=\"text-align: right;\">\n",
       "      <th></th>\n",
       "      <th>lower_bound_ip_address</th>\n",
       "      <th>upper_bound_ip_address</th>\n",
       "      <th>country</th>\n",
       "    </tr>\n",
       "  </thead>\n",
       "  <tbody>\n",
       "    <tr>\n",
       "      <th>138841</th>\n",
       "      <td>3.758092e+09</td>\n",
       "      <td>3758093311</td>\n",
       "      <td>Hong Kong</td>\n",
       "    </tr>\n",
       "    <tr>\n",
       "      <th>138842</th>\n",
       "      <td>3.758093e+09</td>\n",
       "      <td>3758094335</td>\n",
       "      <td>India</td>\n",
       "    </tr>\n",
       "    <tr>\n",
       "      <th>138843</th>\n",
       "      <td>3.758095e+09</td>\n",
       "      <td>3758095871</td>\n",
       "      <td>China</td>\n",
       "    </tr>\n",
       "    <tr>\n",
       "      <th>138844</th>\n",
       "      <td>3.758096e+09</td>\n",
       "      <td>3758096127</td>\n",
       "      <td>Singapore</td>\n",
       "    </tr>\n",
       "    <tr>\n",
       "      <th>138845</th>\n",
       "      <td>3.758096e+09</td>\n",
       "      <td>3758096383</td>\n",
       "      <td>Australia</td>\n",
       "    </tr>\n",
       "  </tbody>\n",
       "</table>\n",
       "</div>"
      ],
      "text/plain": [
       "        lower_bound_ip_address  upper_bound_ip_address    country\n",
       "138841            3.758092e+09              3758093311  Hong Kong\n",
       "138842            3.758093e+09              3758094335      India\n",
       "138843            3.758095e+09              3758095871      China\n",
       "138844            3.758096e+09              3758096127  Singapore\n",
       "138845            3.758096e+09              3758096383  Australia"
      ]
     },
     "execution_count": 3,
     "metadata": {},
     "output_type": "execute_result"
    }
   ],
   "source": [
    "ip_data.tail()"
   ]
  },
  {
   "cell_type": "code",
   "execution_count": 4,
   "metadata": {
    "collapsed": true
   },
   "outputs": [],
   "source": [
    "ip_data['ip_range'] = list(zip(ip_data.lower_bound_ip_address, ip_data.upper_bound_ip_address))"
   ]
  },
  {
   "cell_type": "code",
   "execution_count": 5,
   "metadata": {
    "collapsed": true
   },
   "outputs": [],
   "source": [
    "fraud_data = pd.read_csv('data/Fraud_Data.csv')"
   ]
  },
  {
   "cell_type": "code",
   "execution_count": 6,
   "metadata": {},
   "outputs": [
    {
     "name": "stdout",
     "output_type": "stream",
     "text": [
      "<class 'pandas.core.frame.DataFrame'>\n",
      "RangeIndex: 151112 entries, 0 to 151111\n",
      "Data columns (total 11 columns):\n",
      "user_id           151112 non-null int64\n",
      "signup_time       151112 non-null object\n",
      "purchase_time     151112 non-null object\n",
      "purchase_value    151112 non-null int64\n",
      "device_id         151112 non-null object\n",
      "source            151112 non-null object\n",
      "browser           151112 non-null object\n",
      "sex               151112 non-null object\n",
      "age               151112 non-null int64\n",
      "ip_address        151112 non-null float64\n",
      "class             151112 non-null int64\n",
      "dtypes: float64(1), int64(4), object(6)\n",
      "memory usage: 12.7+ MB\n"
     ]
    }
   ],
   "source": [
    "fraud_data.info()"
   ]
  },
  {
   "cell_type": "code",
   "execution_count": 7,
   "metadata": {},
   "outputs": [
    {
     "data": {
      "text/html": [
       "<div>\n",
       "<style scoped>\n",
       "    .dataframe tbody tr th:only-of-type {\n",
       "        vertical-align: middle;\n",
       "    }\n",
       "\n",
       "    .dataframe tbody tr th {\n",
       "        vertical-align: top;\n",
       "    }\n",
       "\n",
       "    .dataframe thead th {\n",
       "        text-align: right;\n",
       "    }\n",
       "</style>\n",
       "<table border=\"1\" class=\"dataframe\">\n",
       "  <thead>\n",
       "    <tr style=\"text-align: right;\">\n",
       "      <th></th>\n",
       "      <th>user_id</th>\n",
       "      <th>signup_time</th>\n",
       "      <th>purchase_time</th>\n",
       "      <th>purchase_value</th>\n",
       "      <th>device_id</th>\n",
       "      <th>source</th>\n",
       "      <th>browser</th>\n",
       "      <th>sex</th>\n",
       "      <th>age</th>\n",
       "      <th>ip_address</th>\n",
       "      <th>class</th>\n",
       "    </tr>\n",
       "  </thead>\n",
       "  <tbody>\n",
       "    <tr>\n",
       "      <th>0</th>\n",
       "      <td>22058</td>\n",
       "      <td>2015-02-24 22:55:49</td>\n",
       "      <td>2015-04-18 02:47:11</td>\n",
       "      <td>34</td>\n",
       "      <td>QVPSPJUOCKZAR</td>\n",
       "      <td>SEO</td>\n",
       "      <td>Chrome</td>\n",
       "      <td>M</td>\n",
       "      <td>39</td>\n",
       "      <td>7.327584e+08</td>\n",
       "      <td>0</td>\n",
       "    </tr>\n",
       "    <tr>\n",
       "      <th>1</th>\n",
       "      <td>333320</td>\n",
       "      <td>2015-06-07 20:39:50</td>\n",
       "      <td>2015-06-08 01:38:54</td>\n",
       "      <td>16</td>\n",
       "      <td>EOGFQPIZPYXFZ</td>\n",
       "      <td>Ads</td>\n",
       "      <td>Chrome</td>\n",
       "      <td>F</td>\n",
       "      <td>53</td>\n",
       "      <td>3.503114e+08</td>\n",
       "      <td>0</td>\n",
       "    </tr>\n",
       "    <tr>\n",
       "      <th>2</th>\n",
       "      <td>1359</td>\n",
       "      <td>2015-01-01 18:52:44</td>\n",
       "      <td>2015-01-01 18:52:45</td>\n",
       "      <td>15</td>\n",
       "      <td>YSSKYOSJHPPLJ</td>\n",
       "      <td>SEO</td>\n",
       "      <td>Opera</td>\n",
       "      <td>M</td>\n",
       "      <td>53</td>\n",
       "      <td>2.621474e+09</td>\n",
       "      <td>1</td>\n",
       "    </tr>\n",
       "    <tr>\n",
       "      <th>3</th>\n",
       "      <td>150084</td>\n",
       "      <td>2015-04-28 21:13:25</td>\n",
       "      <td>2015-05-04 13:54:50</td>\n",
       "      <td>44</td>\n",
       "      <td>ATGTXKYKUDUQN</td>\n",
       "      <td>SEO</td>\n",
       "      <td>Safari</td>\n",
       "      <td>M</td>\n",
       "      <td>41</td>\n",
       "      <td>3.840542e+09</td>\n",
       "      <td>0</td>\n",
       "    </tr>\n",
       "    <tr>\n",
       "      <th>4</th>\n",
       "      <td>221365</td>\n",
       "      <td>2015-07-21 07:09:52</td>\n",
       "      <td>2015-09-09 18:40:53</td>\n",
       "      <td>39</td>\n",
       "      <td>NAUITBZFJKHWW</td>\n",
       "      <td>Ads</td>\n",
       "      <td>Safari</td>\n",
       "      <td>M</td>\n",
       "      <td>45</td>\n",
       "      <td>4.155831e+08</td>\n",
       "      <td>0</td>\n",
       "    </tr>\n",
       "  </tbody>\n",
       "</table>\n",
       "</div>"
      ],
      "text/plain": [
       "   user_id          signup_time        purchase_time  purchase_value  \\\n",
       "0    22058  2015-02-24 22:55:49  2015-04-18 02:47:11              34   \n",
       "1   333320  2015-06-07 20:39:50  2015-06-08 01:38:54              16   \n",
       "2     1359  2015-01-01 18:52:44  2015-01-01 18:52:45              15   \n",
       "3   150084  2015-04-28 21:13:25  2015-05-04 13:54:50              44   \n",
       "4   221365  2015-07-21 07:09:52  2015-09-09 18:40:53              39   \n",
       "\n",
       "       device_id source browser sex  age    ip_address  class  \n",
       "0  QVPSPJUOCKZAR    SEO  Chrome   M   39  7.327584e+08      0  \n",
       "1  EOGFQPIZPYXFZ    Ads  Chrome   F   53  3.503114e+08      0  \n",
       "2  YSSKYOSJHPPLJ    SEO   Opera   M   53  2.621474e+09      1  \n",
       "3  ATGTXKYKUDUQN    SEO  Safari   M   41  3.840542e+09      0  \n",
       "4  NAUITBZFJKHWW    Ads  Safari   M   45  4.155831e+08      0  "
      ]
     },
     "execution_count": 7,
     "metadata": {},
     "output_type": "execute_result"
    }
   ],
   "source": [
    "fraud_data.head()"
   ]
  },
  {
   "cell_type": "markdown",
   "metadata": {},
   "source": [
    "### Determine Country based on IP address"
   ]
  },
  {
   "cell_type": "code",
   "execution_count": 8,
   "metadata": {
    "collapsed": true
   },
   "outputs": [],
   "source": [
    "v = ip_data.loc[:, 'lower_bound_ip_address':'upper_bound_ip_address'].apply(tuple, 1).tolist()"
   ]
  },
  {
   "cell_type": "code",
   "execution_count": 9,
   "metadata": {
    "collapsed": true
   },
   "outputs": [],
   "source": [
    "idx = pd.IntervalIndex.from_tuples(v, closed='both')"
   ]
  },
  {
   "cell_type": "code",
   "execution_count": 10,
   "metadata": {},
   "outputs": [
    {
     "name": "stderr",
     "output_type": "stream",
     "text": [
      "/Users/gnishimura/anaconda/lib/python3.6/site-packages/pandas/core/indexing.py:1027: FutureWarning: \n",
      "Passing list-likes to .loc or [] with any missing label will raise\n",
      "KeyError in the future, you can use .reindex() as an alternative.\n",
      "\n",
      "See the documentation here:\n",
      "https://pandas.pydata.org/pandas-docs/stable/indexing.html#deprecate-loc-reindex-listlike\n",
      "  return getattr(section, self.name)[new_key]\n"
     ]
    }
   ],
   "source": [
    "v = ip_data.loc[:, 'lower_bound_ip_address':'upper_bound_ip_address'].apply(tuple, 1).tolist()\n",
    "idx = pd.IntervalIndex.from_tuples(v, closed='both')\n",
    "fraud_data['country'] = ip_data.loc[idx.get_indexer(fraud_data['ip_address'].values), 'country'].values"
   ]
  },
  {
   "cell_type": "code",
   "execution_count": 11,
   "metadata": {},
   "outputs": [
    {
     "data": {
      "text/plain": [
       "user_id                        119824\n",
       "signup_time       2015-03-20 00:31:27\n",
       "purchase_time     2015-04-05 07:31:46\n",
       "purchase_value                     55\n",
       "device_id               WFIIFCPIOGMHT\n",
       "source                            Ads\n",
       "browser                        Safari\n",
       "sex                                 M\n",
       "age                                38\n",
       "ip_address                     131424\n",
       "class                               0\n",
       "country                           NaN\n",
       "Name: 17, dtype: object"
      ]
     },
     "execution_count": 11,
     "metadata": {},
     "output_type": "execute_result"
    }
   ],
   "source": [
    "fraud_data.iloc[17]"
   ]
  },
  {
   "cell_type": "code",
   "execution_count": 12,
   "metadata": {
    "collapsed": true
   },
   "outputs": [],
   "source": [
    "test = fraud_data.iloc[17]['ip_address']"
   ]
  },
  {
   "cell_type": "code",
   "execution_count": 13,
   "metadata": {},
   "outputs": [
    {
     "data": {
      "text/plain": [
       "[]"
      ]
     },
     "execution_count": 13,
     "metadata": {},
     "output_type": "execute_result"
    }
   ],
   "source": [
    "list(ip_data[(ip_data['lower_bound_ip_address'] < test) & \n",
    "        (ip_data['upper_bound_ip_address'] > test)]['country'])"
   ]
  },
  {
   "cell_type": "markdown",
   "metadata": {},
   "source": [
    "### Clean Data "
   ]
  },
  {
   "cell_type": "code",
   "execution_count": 14,
   "metadata": {},
   "outputs": [
    {
     "data": {
      "text/html": [
       "<div>\n",
       "<style scoped>\n",
       "    .dataframe tbody tr th:only-of-type {\n",
       "        vertical-align: middle;\n",
       "    }\n",
       "\n",
       "    .dataframe tbody tr th {\n",
       "        vertical-align: top;\n",
       "    }\n",
       "\n",
       "    .dataframe thead th {\n",
       "        text-align: right;\n",
       "    }\n",
       "</style>\n",
       "<table border=\"1\" class=\"dataframe\">\n",
       "  <thead>\n",
       "    <tr style=\"text-align: right;\">\n",
       "      <th></th>\n",
       "      <th>user_id</th>\n",
       "      <th>signup_time</th>\n",
       "      <th>purchase_time</th>\n",
       "      <th>purchase_value</th>\n",
       "      <th>device_id</th>\n",
       "      <th>source</th>\n",
       "      <th>browser</th>\n",
       "      <th>sex</th>\n",
       "      <th>age</th>\n",
       "      <th>ip_address</th>\n",
       "      <th>class</th>\n",
       "      <th>country</th>\n",
       "    </tr>\n",
       "  </thead>\n",
       "  <tbody>\n",
       "    <tr>\n",
       "      <th>0</th>\n",
       "      <td>22058</td>\n",
       "      <td>2015-02-24 22:55:49</td>\n",
       "      <td>2015-04-18 02:47:11</td>\n",
       "      <td>34</td>\n",
       "      <td>QVPSPJUOCKZAR</td>\n",
       "      <td>SEO</td>\n",
       "      <td>Chrome</td>\n",
       "      <td>M</td>\n",
       "      <td>39</td>\n",
       "      <td>7.327584e+08</td>\n",
       "      <td>0</td>\n",
       "      <td>Japan</td>\n",
       "    </tr>\n",
       "    <tr>\n",
       "      <th>1</th>\n",
       "      <td>333320</td>\n",
       "      <td>2015-06-07 20:39:50</td>\n",
       "      <td>2015-06-08 01:38:54</td>\n",
       "      <td>16</td>\n",
       "      <td>EOGFQPIZPYXFZ</td>\n",
       "      <td>Ads</td>\n",
       "      <td>Chrome</td>\n",
       "      <td>F</td>\n",
       "      <td>53</td>\n",
       "      <td>3.503114e+08</td>\n",
       "      <td>0</td>\n",
       "      <td>United States</td>\n",
       "    </tr>\n",
       "    <tr>\n",
       "      <th>2</th>\n",
       "      <td>1359</td>\n",
       "      <td>2015-01-01 18:52:44</td>\n",
       "      <td>2015-01-01 18:52:45</td>\n",
       "      <td>15</td>\n",
       "      <td>YSSKYOSJHPPLJ</td>\n",
       "      <td>SEO</td>\n",
       "      <td>Opera</td>\n",
       "      <td>M</td>\n",
       "      <td>53</td>\n",
       "      <td>2.621474e+09</td>\n",
       "      <td>1</td>\n",
       "      <td>United States</td>\n",
       "    </tr>\n",
       "    <tr>\n",
       "      <th>3</th>\n",
       "      <td>150084</td>\n",
       "      <td>2015-04-28 21:13:25</td>\n",
       "      <td>2015-05-04 13:54:50</td>\n",
       "      <td>44</td>\n",
       "      <td>ATGTXKYKUDUQN</td>\n",
       "      <td>SEO</td>\n",
       "      <td>Safari</td>\n",
       "      <td>M</td>\n",
       "      <td>41</td>\n",
       "      <td>3.840542e+09</td>\n",
       "      <td>0</td>\n",
       "      <td>NaN</td>\n",
       "    </tr>\n",
       "    <tr>\n",
       "      <th>4</th>\n",
       "      <td>221365</td>\n",
       "      <td>2015-07-21 07:09:52</td>\n",
       "      <td>2015-09-09 18:40:53</td>\n",
       "      <td>39</td>\n",
       "      <td>NAUITBZFJKHWW</td>\n",
       "      <td>Ads</td>\n",
       "      <td>Safari</td>\n",
       "      <td>M</td>\n",
       "      <td>45</td>\n",
       "      <td>4.155831e+08</td>\n",
       "      <td>0</td>\n",
       "      <td>United States</td>\n",
       "    </tr>\n",
       "  </tbody>\n",
       "</table>\n",
       "</div>"
      ],
      "text/plain": [
       "   user_id          signup_time        purchase_time  purchase_value  \\\n",
       "0    22058  2015-02-24 22:55:49  2015-04-18 02:47:11              34   \n",
       "1   333320  2015-06-07 20:39:50  2015-06-08 01:38:54              16   \n",
       "2     1359  2015-01-01 18:52:44  2015-01-01 18:52:45              15   \n",
       "3   150084  2015-04-28 21:13:25  2015-05-04 13:54:50              44   \n",
       "4   221365  2015-07-21 07:09:52  2015-09-09 18:40:53              39   \n",
       "\n",
       "       device_id source browser sex  age    ip_address  class        country  \n",
       "0  QVPSPJUOCKZAR    SEO  Chrome   M   39  7.327584e+08      0          Japan  \n",
       "1  EOGFQPIZPYXFZ    Ads  Chrome   F   53  3.503114e+08      0  United States  \n",
       "2  YSSKYOSJHPPLJ    SEO   Opera   M   53  2.621474e+09      1  United States  \n",
       "3  ATGTXKYKUDUQN    SEO  Safari   M   41  3.840542e+09      0            NaN  \n",
       "4  NAUITBZFJKHWW    Ads  Safari   M   45  4.155831e+08      0  United States  "
      ]
     },
     "execution_count": 14,
     "metadata": {},
     "output_type": "execute_result"
    }
   ],
   "source": [
    "fraud_data.head()"
   ]
  },
  {
   "cell_type": "code",
   "execution_count": 15,
   "metadata": {
    "collapsed": true
   },
   "outputs": [],
   "source": [
    "#fraud_data['country'].value_counts()"
   ]
  },
  {
   "cell_type": "code",
   "execution_count": 16,
   "metadata": {
    "collapsed": true
   },
   "outputs": [],
   "source": [
    "fraud_data['signup_time'] = pd.to_datetime(fraud_data['signup_time'], infer_datetime_format=True)"
   ]
  },
  {
   "cell_type": "code",
   "execution_count": 17,
   "metadata": {
    "collapsed": true
   },
   "outputs": [],
   "source": [
    "fraud_data['purchase_time'] = pd.to_datetime(fraud_data['purchase_time'], infer_datetime_format=True)"
   ]
  },
  {
   "cell_type": "code",
   "execution_count": 18,
   "metadata": {
    "collapsed": true
   },
   "outputs": [],
   "source": [
    "fraud_data['time_to_purchase'] = fraud_data['purchase_time'] - fraud_data['signup_time']"
   ]
  },
  {
   "cell_type": "code",
   "execution_count": 19,
   "metadata": {
    "collapsed": true
   },
   "outputs": [],
   "source": [
    "fraud_data['days_to_purchase'] = fraud_data['time_to_purchase'].apply(lambda x: x.days)"
   ]
  },
  {
   "cell_type": "code",
   "execution_count": 20,
   "metadata": {
    "collapsed": true
   },
   "outputs": [],
   "source": [
    "y_labels = fraud_data['class']"
   ]
  },
  {
   "cell_type": "code",
   "execution_count": 21,
   "metadata": {},
   "outputs": [
    {
     "data": {
      "text/plain": [
       "9.364577267192546"
      ]
     },
     "execution_count": 21,
     "metadata": {},
     "output_type": "execute_result"
    }
   ],
   "source": [
    "percent_fraud = (y_labels.sum()/len(y_labels))*100\n",
    "percent_fraud"
   ]
  },
  {
   "cell_type": "code",
   "execution_count": 22,
   "metadata": {
    "collapsed": true
   },
   "outputs": [],
   "source": [
    "clean_fraud_data = fraud_data.drop(['class', 'user_id', 'device_id', \n",
    "                                    'time_to_purchase', 'signup_time', \n",
    "                                    'purchase_time', 'ip_address'], axis=1)"
   ]
  },
  {
   "cell_type": "code",
   "execution_count": 23,
   "metadata": {},
   "outputs": [
    {
     "data": {
      "text/html": [
       "<div>\n",
       "<style scoped>\n",
       "    .dataframe tbody tr th:only-of-type {\n",
       "        vertical-align: middle;\n",
       "    }\n",
       "\n",
       "    .dataframe tbody tr th {\n",
       "        vertical-align: top;\n",
       "    }\n",
       "\n",
       "    .dataframe thead th {\n",
       "        text-align: right;\n",
       "    }\n",
       "</style>\n",
       "<table border=\"1\" class=\"dataframe\">\n",
       "  <thead>\n",
       "    <tr style=\"text-align: right;\">\n",
       "      <th></th>\n",
       "      <th>purchase_value</th>\n",
       "      <th>source</th>\n",
       "      <th>browser</th>\n",
       "      <th>sex</th>\n",
       "      <th>age</th>\n",
       "      <th>country</th>\n",
       "      <th>days_to_purchase</th>\n",
       "    </tr>\n",
       "  </thead>\n",
       "  <tbody>\n",
       "    <tr>\n",
       "      <th>0</th>\n",
       "      <td>34</td>\n",
       "      <td>SEO</td>\n",
       "      <td>Chrome</td>\n",
       "      <td>M</td>\n",
       "      <td>39</td>\n",
       "      <td>Japan</td>\n",
       "      <td>52</td>\n",
       "    </tr>\n",
       "    <tr>\n",
       "      <th>1</th>\n",
       "      <td>16</td>\n",
       "      <td>Ads</td>\n",
       "      <td>Chrome</td>\n",
       "      <td>F</td>\n",
       "      <td>53</td>\n",
       "      <td>United States</td>\n",
       "      <td>0</td>\n",
       "    </tr>\n",
       "    <tr>\n",
       "      <th>2</th>\n",
       "      <td>15</td>\n",
       "      <td>SEO</td>\n",
       "      <td>Opera</td>\n",
       "      <td>M</td>\n",
       "      <td>53</td>\n",
       "      <td>United States</td>\n",
       "      <td>0</td>\n",
       "    </tr>\n",
       "    <tr>\n",
       "      <th>3</th>\n",
       "      <td>44</td>\n",
       "      <td>SEO</td>\n",
       "      <td>Safari</td>\n",
       "      <td>M</td>\n",
       "      <td>41</td>\n",
       "      <td>NaN</td>\n",
       "      <td>5</td>\n",
       "    </tr>\n",
       "    <tr>\n",
       "      <th>4</th>\n",
       "      <td>39</td>\n",
       "      <td>Ads</td>\n",
       "      <td>Safari</td>\n",
       "      <td>M</td>\n",
       "      <td>45</td>\n",
       "      <td>United States</td>\n",
       "      <td>50</td>\n",
       "    </tr>\n",
       "  </tbody>\n",
       "</table>\n",
       "</div>"
      ],
      "text/plain": [
       "   purchase_value source browser sex  age        country  days_to_purchase\n",
       "0              34    SEO  Chrome   M   39          Japan                52\n",
       "1              16    Ads  Chrome   F   53  United States                 0\n",
       "2              15    SEO   Opera   M   53  United States                 0\n",
       "3              44    SEO  Safari   M   41            NaN                 5\n",
       "4              39    Ads  Safari   M   45  United States                50"
      ]
     },
     "execution_count": 23,
     "metadata": {},
     "output_type": "execute_result"
    }
   ],
   "source": [
    "clean_fraud_data.head()"
   ]
  },
  {
   "cell_type": "markdown",
   "metadata": {},
   "source": [
    "### Train-Test-Split and Dummify"
   ]
  },
  {
   "cell_type": "code",
   "execution_count": 24,
   "metadata": {
    "collapsed": true
   },
   "outputs": [],
   "source": [
    "X_train, X_test, y_train, y_test = train_test_split(clean_fraud_data, y_labels, test_size=.3)"
   ]
  },
  {
   "cell_type": "code",
   "execution_count": 25,
   "metadata": {
    "collapsed": true
   },
   "outputs": [],
   "source": [
    "encoder = Encoder(thresh=3)"
   ]
  },
  {
   "cell_type": "code",
   "execution_count": 26,
   "metadata": {},
   "outputs": [
    {
     "data": {
      "text/plain": [
       "<encoder.Encoder at 0x118d77d68>"
      ]
     },
     "execution_count": 26,
     "metadata": {},
     "output_type": "execute_result"
    }
   ],
   "source": [
    "encoder.fit(X_train)"
   ]
  },
  {
   "cell_type": "code",
   "execution_count": 27,
   "metadata": {
    "collapsed": true
   },
   "outputs": [],
   "source": [
    "encoded_X_train = encoder.transform(X_train)"
   ]
  },
  {
   "cell_type": "code",
   "execution_count": 28,
   "metadata": {},
   "outputs": [
    {
     "data": {
      "text/plain": [
       "Index(['purchase_value', 'age', 'days_to_purchase', 'source_SEO', 'source_Ads',\n",
       "       'browser_Chrome', 'browser_IE', 'browser_Safari', 'browser_FireFox',\n",
       "       'sex_M',\n",
       "       ...\n",
       "       'country_Malawi', 'country_Afghanistan', 'country_Congo',\n",
       "       'country_Faroe Islands', 'country_Cote D'ivoire', 'country_Curacao',\n",
       "       'country_Haiti', 'country_Djibouti', 'country_Cameroon',\n",
       "       'country_Reunion'],\n",
       "      dtype='object', length=153)"
      ]
     },
     "execution_count": 28,
     "metadata": {},
     "output_type": "execute_result"
    }
   ],
   "source": [
    "encoded_X_train.columns"
   ]
  },
  {
   "cell_type": "code",
   "execution_count": 29,
   "metadata": {
    "collapsed": true
   },
   "outputs": [],
   "source": [
    "encoded_X_test = encoder.transform(X_test)"
   ]
  },
  {
   "cell_type": "code",
   "execution_count": 30,
   "metadata": {},
   "outputs": [
    {
     "data": {
      "text/plain": [
       "Index(['purchase_value', 'age', 'days_to_purchase', 'source_SEO', 'source_Ads',\n",
       "       'browser_Chrome', 'browser_IE', 'browser_Safari', 'browser_FireFox',\n",
       "       'sex_M',\n",
       "       ...\n",
       "       'country_Malawi', 'country_Afghanistan', 'country_Congo',\n",
       "       'country_Faroe Islands', 'country_Cote D'ivoire', 'country_Curacao',\n",
       "       'country_Haiti', 'country_Djibouti', 'country_Cameroon',\n",
       "       'country_Reunion'],\n",
       "      dtype='object', length=153)"
      ]
     },
     "execution_count": 30,
     "metadata": {},
     "output_type": "execute_result"
    }
   ],
   "source": [
    "encoded_X_test.columns"
   ]
  },
  {
   "cell_type": "code",
   "execution_count": 31,
   "metadata": {},
   "outputs": [
    {
     "name": "stdout",
     "output_type": "stream",
     "text": [
      "<class 'pandas.core.frame.DataFrame'>\n",
      "Int64Index: 45334 entries, 68135 to 78438\n",
      "Columns: 153 entries, purchase_value to country_Reunion\n",
      "dtypes: int64(153)\n",
      "memory usage: 53.3 MB\n"
     ]
    }
   ],
   "source": [
    "encoded_X_test.info()"
   ]
  },
  {
   "cell_type": "markdown",
   "metadata": {},
   "source": [
    "### First Model: Logistic Regression "
   ]
  },
  {
   "cell_type": "code",
   "execution_count": 32,
   "metadata": {
    "collapsed": true
   },
   "outputs": [],
   "source": [
    "lr = LogisticRegression()"
   ]
  },
  {
   "cell_type": "code",
   "execution_count": 33,
   "metadata": {},
   "outputs": [
    {
     "data": {
      "text/plain": [
       "LogisticRegression(C=1.0, class_weight=None, dual=False, fit_intercept=True,\n",
       "          intercept_scaling=1, max_iter=100, multi_class='ovr', n_jobs=1,\n",
       "          penalty='l2', random_state=None, solver='liblinear', tol=0.0001,\n",
       "          verbose=0, warm_start=False)"
      ]
     },
     "execution_count": 33,
     "metadata": {},
     "output_type": "execute_result"
    }
   ],
   "source": [
    "lr.fit(encoded_X_train, y_train)"
   ]
  },
  {
   "cell_type": "code",
   "execution_count": 34,
   "metadata": {
    "collapsed": true
   },
   "outputs": [],
   "source": [
    "y_preds = lr.predict_proba(encoded_X_train)"
   ]
  },
  {
   "cell_type": "code",
   "execution_count": 35,
   "metadata": {
    "collapsed": true
   },
   "outputs": [],
   "source": [
    "lr_y_preds = lr.predict_proba(encoded_X_test)"
   ]
  },
  {
   "cell_type": "code",
   "execution_count": 36,
   "metadata": {},
   "outputs": [
    {
     "name": "stdout",
     "output_type": "stream",
     "text": [
      "log loss for logistic regression model was 0.2766172743016411\n"
     ]
    }
   ],
   "source": [
    "lr_log_loss = log_loss(y_test, lr_y_preds)\n",
    "print(f\"log loss for logistic regression model was {lr_log_loss}\")"
   ]
  },
  {
   "cell_type": "code",
   "execution_count": 37,
   "metadata": {
    "collapsed": true
   },
   "outputs": [],
   "source": [
    "hard_preds = lr.predict(encoded_X_test)"
   ]
  },
  {
   "cell_type": "code",
   "execution_count": 38,
   "metadata": {},
   "outputs": [
    {
     "data": {
      "text/plain": [
       "0.90642784664931397"
      ]
     },
     "execution_count": 38,
     "metadata": {},
     "output_type": "execute_result"
    }
   ],
   "source": [
    "accuracy_score(y_test, hard_preds)"
   ]
  },
  {
   "cell_type": "code",
   "execution_count": null,
   "metadata": {
    "collapsed": true
   },
   "outputs": [],
   "source": []
  },
  {
   "cell_type": "code",
   "execution_count": 39,
   "metadata": {
    "collapsed": true
   },
   "outputs": [],
   "source": [
    "betas = lr.coef_"
   ]
  },
  {
   "cell_type": "code",
   "execution_count": 40,
   "metadata": {
    "collapsed": true
   },
   "outputs": [],
   "source": [
    "def create_readable_coef_df(coefficients, df):\n",
    "    features_arr = np.array(df.columns)\n",
    "    coef_arr = np.array(coefficients).flatten()\n",
    "    table = np.concatenate([features_arr, coef_arr]).reshape(2, len(df.columns))\n",
    "    coef_df = pd.DataFrame(table)\n",
    "    coef_df.columns = coef_df.iloc[0]\n",
    "    coef_df.drop(index=0, inplace=True)\n",
    "    return coef_df"
   ]
  },
  {
   "cell_type": "code",
   "execution_count": 41,
   "metadata": {
    "collapsed": true
   },
   "outputs": [],
   "source": [
    "coefs = create_readable_coef_df(betas, encoded_X_train).T"
   ]
  },
  {
   "cell_type": "code",
   "execution_count": 42,
   "metadata": {},
   "outputs": [
    {
     "data": {
      "text/html": [
       "<div>\n",
       "<style scoped>\n",
       "    .dataframe tbody tr th:only-of-type {\n",
       "        vertical-align: middle;\n",
       "    }\n",
       "\n",
       "    .dataframe tbody tr th {\n",
       "        vertical-align: top;\n",
       "    }\n",
       "\n",
       "    .dataframe thead th {\n",
       "        text-align: right;\n",
       "    }\n",
       "</style>\n",
       "<table border=\"1\" class=\"dataframe\">\n",
       "  <thead>\n",
       "    <tr style=\"text-align: right;\">\n",
       "      <th></th>\n",
       "      <th>1</th>\n",
       "    </tr>\n",
       "    <tr>\n",
       "      <th>0</th>\n",
       "      <th></th>\n",
       "    </tr>\n",
       "  </thead>\n",
       "  <tbody>\n",
       "    <tr>\n",
       "      <th>country_Luxembourg</th>\n",
       "      <td>1.37065</td>\n",
       "    </tr>\n",
       "    <tr>\n",
       "      <th>country_Sri Lanka</th>\n",
       "      <td>1.35505</td>\n",
       "    </tr>\n",
       "    <tr>\n",
       "      <th>country_Peru</th>\n",
       "      <td>1.23981</td>\n",
       "    </tr>\n",
       "    <tr>\n",
       "      <th>country_New Zealand</th>\n",
       "      <td>1.20316</td>\n",
       "    </tr>\n",
       "    <tr>\n",
       "      <th>country_Tunisia</th>\n",
       "      <td>1.10392</td>\n",
       "    </tr>\n",
       "    <tr>\n",
       "      <th>country_Kuwait</th>\n",
       "      <td>1.06129</td>\n",
       "    </tr>\n",
       "    <tr>\n",
       "      <th>country_Namibia</th>\n",
       "      <td>0.965266</td>\n",
       "    </tr>\n",
       "    <tr>\n",
       "      <th>country_Ecuador</th>\n",
       "      <td>0.958709</td>\n",
       "    </tr>\n",
       "    <tr>\n",
       "      <th>country_Saudi Arabia</th>\n",
       "      <td>0.854378</td>\n",
       "    </tr>\n",
       "    <tr>\n",
       "      <th>country_Bolivia</th>\n",
       "      <td>0.842101</td>\n",
       "    </tr>\n",
       "    <tr>\n",
       "      <th>country_Ireland</th>\n",
       "      <td>0.824214</td>\n",
       "    </tr>\n",
       "    <tr>\n",
       "      <th>country_Greece</th>\n",
       "      <td>0.755933</td>\n",
       "    </tr>\n",
       "    <tr>\n",
       "      <th>country_Denmark</th>\n",
       "      <td>0.614108</td>\n",
       "    </tr>\n",
       "    <tr>\n",
       "      <th>country_Chile</th>\n",
       "      <td>0.573383</td>\n",
       "    </tr>\n",
       "    <tr>\n",
       "      <th>country_Egypt</th>\n",
       "      <td>0.560908</td>\n",
       "    </tr>\n",
       "    <tr>\n",
       "      <th>country_Algeria</th>\n",
       "      <td>0.541383</td>\n",
       "    </tr>\n",
       "    <tr>\n",
       "      <th>country_Venezuela</th>\n",
       "      <td>0.499405</td>\n",
       "    </tr>\n",
       "    <tr>\n",
       "      <th>country_Hong Kong</th>\n",
       "      <td>0.498479</td>\n",
       "    </tr>\n",
       "    <tr>\n",
       "      <th>country_Mexico</th>\n",
       "      <td>0.49331</td>\n",
       "    </tr>\n",
       "    <tr>\n",
       "      <th>country_Lithuania</th>\n",
       "      <td>0.488248</td>\n",
       "    </tr>\n",
       "    <tr>\n",
       "      <th>country_Belgium</th>\n",
       "      <td>0.461866</td>\n",
       "    </tr>\n",
       "    <tr>\n",
       "      <th>country_Norway</th>\n",
       "      <td>0.45801</td>\n",
       "    </tr>\n",
       "    <tr>\n",
       "      <th>country_Uzbekistan</th>\n",
       "      <td>0.447357</td>\n",
       "    </tr>\n",
       "    <tr>\n",
       "      <th>country_Kenya</th>\n",
       "      <td>0.408541</td>\n",
       "    </tr>\n",
       "    <tr>\n",
       "      <th>country_Canada</th>\n",
       "      <td>0.362188</td>\n",
       "    </tr>\n",
       "    <tr>\n",
       "      <th>country_Seychelles</th>\n",
       "      <td>0.359681</td>\n",
       "    </tr>\n",
       "    <tr>\n",
       "      <th>country_Ukraine</th>\n",
       "      <td>0.326346</td>\n",
       "    </tr>\n",
       "    <tr>\n",
       "      <th>country_Malta</th>\n",
       "      <td>0.321542</td>\n",
       "    </tr>\n",
       "    <tr>\n",
       "      <th>country_Paraguay</th>\n",
       "      <td>0.306772</td>\n",
       "    </tr>\n",
       "    <tr>\n",
       "      <th>country_United Arab Emirates</th>\n",
       "      <td>0.286567</td>\n",
       "    </tr>\n",
       "    <tr>\n",
       "      <th>...</th>\n",
       "      <td>...</td>\n",
       "    </tr>\n",
       "    <tr>\n",
       "      <th>country_Nigeria</th>\n",
       "      <td>-0.305086</td>\n",
       "    </tr>\n",
       "    <tr>\n",
       "      <th>country_Mozambique</th>\n",
       "      <td>-0.306334</td>\n",
       "    </tr>\n",
       "    <tr>\n",
       "      <th>country_Iraq</th>\n",
       "      <td>-0.315428</td>\n",
       "    </tr>\n",
       "    <tr>\n",
       "      <th>country_Qatar</th>\n",
       "      <td>-0.318181</td>\n",
       "    </tr>\n",
       "    <tr>\n",
       "      <th>country_Kyrgyzstan</th>\n",
       "      <td>-0.323229</td>\n",
       "    </tr>\n",
       "    <tr>\n",
       "      <th>country_Thailand</th>\n",
       "      <td>-0.337742</td>\n",
       "    </tr>\n",
       "    <tr>\n",
       "      <th>country_Puerto Rico</th>\n",
       "      <td>-0.338173</td>\n",
       "    </tr>\n",
       "    <tr>\n",
       "      <th>country_Tanzania United Republic of</th>\n",
       "      <td>-0.352466</td>\n",
       "    </tr>\n",
       "    <tr>\n",
       "      <th>country_Cambodia</th>\n",
       "      <td>-0.352678</td>\n",
       "    </tr>\n",
       "    <tr>\n",
       "      <th>country_Singapore</th>\n",
       "      <td>-0.353205</td>\n",
       "    </tr>\n",
       "    <tr>\n",
       "      <th>country_Syrian Arab Republic</th>\n",
       "      <td>-0.354523</td>\n",
       "    </tr>\n",
       "    <tr>\n",
       "      <th>country_Poland</th>\n",
       "      <td>-0.368716</td>\n",
       "    </tr>\n",
       "    <tr>\n",
       "      <th>country_Viet Nam</th>\n",
       "      <td>-0.40223</td>\n",
       "    </tr>\n",
       "    <tr>\n",
       "      <th>country_Portugal</th>\n",
       "      <td>-0.426445</td>\n",
       "    </tr>\n",
       "    <tr>\n",
       "      <th>country_Malaysia</th>\n",
       "      <td>-0.437117</td>\n",
       "    </tr>\n",
       "    <tr>\n",
       "      <th>country_Serbia</th>\n",
       "      <td>-0.504343</td>\n",
       "    </tr>\n",
       "    <tr>\n",
       "      <th>country_Belarus</th>\n",
       "      <td>-0.50712</td>\n",
       "    </tr>\n",
       "    <tr>\n",
       "      <th>country_Romania</th>\n",
       "      <td>-0.514494</td>\n",
       "    </tr>\n",
       "    <tr>\n",
       "      <th>country_European Union</th>\n",
       "      <td>-0.59265</td>\n",
       "    </tr>\n",
       "    <tr>\n",
       "      <th>country_Morocco</th>\n",
       "      <td>-0.609707</td>\n",
       "    </tr>\n",
       "    <tr>\n",
       "      <th>country_Jordan</th>\n",
       "      <td>-0.619351</td>\n",
       "    </tr>\n",
       "    <tr>\n",
       "      <th>country_Pakistan</th>\n",
       "      <td>-0.654054</td>\n",
       "    </tr>\n",
       "    <tr>\n",
       "      <th>country_Oman</th>\n",
       "      <td>-0.661366</td>\n",
       "    </tr>\n",
       "    <tr>\n",
       "      <th>country_Bangladesh</th>\n",
       "      <td>-0.675298</td>\n",
       "    </tr>\n",
       "    <tr>\n",
       "      <th>country_Cyprus</th>\n",
       "      <td>-0.708577</td>\n",
       "    </tr>\n",
       "    <tr>\n",
       "      <th>country_Slovenia</th>\n",
       "      <td>-0.712761</td>\n",
       "    </tr>\n",
       "    <tr>\n",
       "      <th>country_Uruguay</th>\n",
       "      <td>-0.736617</td>\n",
       "    </tr>\n",
       "    <tr>\n",
       "      <th>country_Philippines</th>\n",
       "      <td>-0.880135</td>\n",
       "    </tr>\n",
       "    <tr>\n",
       "      <th>country_Bulgaria</th>\n",
       "      <td>-1.06035</td>\n",
       "    </tr>\n",
       "    <tr>\n",
       "      <th>country_Israel</th>\n",
       "      <td>-1.06833</td>\n",
       "    </tr>\n",
       "  </tbody>\n",
       "</table>\n",
       "<p>153 rows × 1 columns</p>\n",
       "</div>"
      ],
      "text/plain": [
       "                                            1\n",
       "0                                            \n",
       "country_Luxembourg                    1.37065\n",
       "country_Sri Lanka                     1.35505\n",
       "country_Peru                          1.23981\n",
       "country_New Zealand                   1.20316\n",
       "country_Tunisia                       1.10392\n",
       "country_Kuwait                        1.06129\n",
       "country_Namibia                      0.965266\n",
       "country_Ecuador                      0.958709\n",
       "country_Saudi Arabia                 0.854378\n",
       "country_Bolivia                      0.842101\n",
       "country_Ireland                      0.824214\n",
       "country_Greece                       0.755933\n",
       "country_Denmark                      0.614108\n",
       "country_Chile                        0.573383\n",
       "country_Egypt                        0.560908\n",
       "country_Algeria                      0.541383\n",
       "country_Venezuela                    0.499405\n",
       "country_Hong Kong                    0.498479\n",
       "country_Mexico                        0.49331\n",
       "country_Lithuania                    0.488248\n",
       "country_Belgium                      0.461866\n",
       "country_Norway                        0.45801\n",
       "country_Uzbekistan                   0.447357\n",
       "country_Kenya                        0.408541\n",
       "country_Canada                       0.362188\n",
       "country_Seychelles                   0.359681\n",
       "country_Ukraine                      0.326346\n",
       "country_Malta                        0.321542\n",
       "country_Paraguay                     0.306772\n",
       "country_United Arab Emirates         0.286567\n",
       "...                                       ...\n",
       "country_Nigeria                     -0.305086\n",
       "country_Mozambique                  -0.306334\n",
       "country_Iraq                        -0.315428\n",
       "country_Qatar                       -0.318181\n",
       "country_Kyrgyzstan                  -0.323229\n",
       "country_Thailand                    -0.337742\n",
       "country_Puerto Rico                 -0.338173\n",
       "country_Tanzania United Republic of -0.352466\n",
       "country_Cambodia                    -0.352678\n",
       "country_Singapore                   -0.353205\n",
       "country_Syrian Arab Republic        -0.354523\n",
       "country_Poland                      -0.368716\n",
       "country_Viet Nam                     -0.40223\n",
       "country_Portugal                    -0.426445\n",
       "country_Malaysia                    -0.437117\n",
       "country_Serbia                      -0.504343\n",
       "country_Belarus                      -0.50712\n",
       "country_Romania                     -0.514494\n",
       "country_European Union               -0.59265\n",
       "country_Morocco                     -0.609707\n",
       "country_Jordan                      -0.619351\n",
       "country_Pakistan                    -0.654054\n",
       "country_Oman                        -0.661366\n",
       "country_Bangladesh                  -0.675298\n",
       "country_Cyprus                      -0.708577\n",
       "country_Slovenia                    -0.712761\n",
       "country_Uruguay                     -0.736617\n",
       "country_Philippines                 -0.880135\n",
       "country_Bulgaria                     -1.06035\n",
       "country_Israel                       -1.06833\n",
       "\n",
       "[153 rows x 1 columns]"
      ]
     },
     "execution_count": 42,
     "metadata": {},
     "output_type": "execute_result"
    }
   ],
   "source": [
    "coefs.sort_values(by=1, ascending=False)"
   ]
  },
  {
   "cell_type": "code",
   "execution_count": null,
   "metadata": {
    "collapsed": true
   },
   "outputs": [],
   "source": []
  },
  {
   "cell_type": "markdown",
   "metadata": {},
   "source": [
    "### Second Model: Random Forest"
   ]
  },
  {
   "cell_type": "code",
   "execution_count": 43,
   "metadata": {
    "collapsed": true
   },
   "outputs": [],
   "source": [
    "rf = RandomForestClassifier(n_estimators=100, max_depth=5, random_state=20)"
   ]
  },
  {
   "cell_type": "code",
   "execution_count": 44,
   "metadata": {},
   "outputs": [
    {
     "data": {
      "text/plain": [
       "RandomForestClassifier(bootstrap=True, class_weight=None, criterion='gini',\n",
       "            max_depth=5, max_features='auto', max_leaf_nodes=None,\n",
       "            min_impurity_decrease=0.0, min_impurity_split=None,\n",
       "            min_samples_leaf=1, min_samples_split=2,\n",
       "            min_weight_fraction_leaf=0.0, n_estimators=100, n_jobs=1,\n",
       "            oob_score=False, random_state=20, verbose=0, warm_start=False)"
      ]
     },
     "execution_count": 44,
     "metadata": {},
     "output_type": "execute_result"
    }
   ],
   "source": [
    "rf.fit(encoded_X_train, y_train)"
   ]
  },
  {
   "cell_type": "code",
   "execution_count": 45,
   "metadata": {
    "collapsed": true
   },
   "outputs": [],
   "source": [
    "rf_preds = rf.predict_proba(encoded_X_test)"
   ]
  },
  {
   "cell_type": "code",
   "execution_count": 46,
   "metadata": {},
   "outputs": [
    {
     "name": "stdout",
     "output_type": "stream",
     "text": [
      "log loss for random forest = 0.23633728614302435\n"
     ]
    }
   ],
   "source": [
    "print(f\"log loss for random forest = {log_loss(y_test, rf_preds)}\")"
   ]
  },
  {
   "cell_type": "code",
   "execution_count": 47,
   "metadata": {},
   "outputs": [
    {
     "data": {
      "text/plain": [
       "([array([  0.00000000e+00,   0.00000000e+00,   0.00000000e+00,\n",
       "           0.00000000e+00,   1.10000000e+01,   6.30000000e+01,\n",
       "           2.54600000e+03,   0.00000000e+00,   9.00000000e+00,\n",
       "           4.27050000e+04]),\n",
       "  array([  4.27050000e+04,   9.00000000e+00,   0.00000000e+00,\n",
       "           2.54600000e+03,   6.30000000e+01,   1.10000000e+01,\n",
       "           0.00000000e+00,   0.00000000e+00,   0.00000000e+00,\n",
       "           0.00000000e+00])],\n",
       " array([ 0.06763159,  0.15410527,  0.24057895,  0.32705264,  0.41352632,\n",
       "         0.5       ,  0.58647368,  0.67294736,  0.75942105,  0.84589473,\n",
       "         0.93236841]),\n",
       " <a list of 2 Lists of Patches objects>)"
      ]
     },
     "execution_count": 47,
     "metadata": {},
     "output_type": "execute_result"
    },
    {
     "data": {
      "image/png": "[encoded data removed]",
      "text/plain": [
       "<matplotlib.figure.Figure at 0x118d802e8>"
      ]
     },
     "metadata": {},
     "output_type": "display_data"
    }
   ],
   "source": [
    "plt.hist(rf_preds)"
   ]
  },
  {
   "cell_type": "markdown",
   "metadata": {},
   "source": [
    "### Third Model: XG Boost"
   ]
  },
  {
   "cell_type": "code",
   "execution_count": 48,
   "metadata": {
    "collapsed": true
   },
   "outputs": [],
   "source": [
    "xgb_model_1 = xgb.XGBClassifier()"
   ]
  },
  {
   "cell_type": "code",
   "execution_count": 49,
   "metadata": {},
   "outputs": [
    {
     "data": {
      "text/plain": [
       "XGBClassifier(base_score=0.5, booster='gbtree', colsample_bylevel=1,\n",
       "       colsample_bytree=1, gamma=0, learning_rate=0.1, max_delta_step=0,\n",
       "       max_depth=3, min_child_weight=1, missing=None, n_estimators=100,\n",
       "       n_jobs=1, nthread=None, objective='binary:logistic', random_state=0,\n",
       "       reg_alpha=0, reg_lambda=1, scale_pos_weight=1, seed=None,\n",
       "       silent=True, subsample=1)"
      ]
     },
     "execution_count": 49,
     "metadata": {},
     "output_type": "execute_result"
    }
   ],
   "source": [
    "xgb_model_1.fit(encoded_X_train, y_train)"
   ]
  },
  {
   "cell_type": "code",
   "execution_count": 50,
   "metadata": {
    "collapsed": true
   },
   "outputs": [],
   "source": [
    "xgb_preds_1 = xgb_model_1.predict_proba(encoded_X_test)"
   ]
  },
  {
   "cell_type": "code",
   "execution_count": 51,
   "metadata": {
    "collapsed": true
   },
   "outputs": [],
   "source": [
    "log_loss_score = log_loss(y_test, xgb_preds_1)"
   ]
  },
  {
   "cell_type": "code",
   "execution_count": 52,
   "metadata": {},
   "outputs": [
    {
     "name": "stdout",
     "output_type": "stream",
     "text": [
      "log_loss for xgboost = 0.1992708325736562\n"
     ]
    }
   ],
   "source": [
    "print(f'log_loss for xgboost = {log_loss_score}')"
   ]
  },
  {
   "cell_type": "code",
   "execution_count": 53,
   "metadata": {},
   "outputs": [
    {
     "name": "stdout",
     "output_type": "stream",
     "text": [
      "[ 0.15360983  0.11367127  0.17511521  0.06298003  0.06451613  0.03072197\n",
      "  0.02304148  0.00614439  0.00921659  0.03072197  0.0015361   0.          0.0015361\n",
      "  0.          0.00614439  0.01382488  0.01075269  0.01536098  0.01075269\n",
      "  0.          0.0030722   0.01382488  0.0015361   0.0015361   0.00460829\n",
      "  0.00460829  0.0030722   0.00460829  0.          0.          0.\n",
      "  0.01382488  0.00460829  0.          0.00614439  0.          0.\n",
      "  0.01228879  0.          0.          0.00768049  0.          0.\n",
      "  0.00768049  0.01382488  0.00460829  0.0030722   0.00768049  0.02304148\n",
      "  0.01382488  0.          0.00768049  0.          0.          0.00768049\n",
      "  0.0030722   0.          0.          0.          0.          0.\n",
      "  0.00614439  0.          0.01689708  0.00460829  0.00614439  0.          0.\n",
      "  0.01228879  0.          0.00768049  0.          0.          0.          0.\n",
      "  0.          0.          0.01536098  0.00460829  0.          0.          0.\n",
      "  0.          0.          0.          0.01228879  0.0030722   0.          0.\n",
      "  0.          0.          0.          0.          0.0030722   0.          0.\n",
      "  0.0015361   0.          0.          0.          0.          0.          0.\n",
      "  0.          0.          0.          0.          0.          0.          0.\n",
      "  0.          0.          0.          0.          0.          0.          0.\n",
      "  0.          0.          0.          0.          0.          0.          0.\n",
      "  0.          0.0015361   0.          0.          0.          0.          0.\n",
      "  0.          0.          0.          0.          0.          0.          0.\n",
      "  0.          0.          0.          0.          0.          0.0015361   0.\n",
      "  0.          0.          0.          0.          0.          0.          0.\n",
      "  0.        ]\n"
     ]
    }
   ],
   "source": [
    "print(xgb_model_1.feature_importances_)"
   ]
  },
  {
   "cell_type": "code",
   "execution_count": 54,
   "metadata": {},
   "outputs": [
    {
     "data": {
      "text/plain": [
       "<matplotlib.axes._subplots.AxesSubplot at 0x11a29c3c8>"
      ]
     },
     "execution_count": 54,
     "metadata": {},
     "output_type": "execute_result"
    },
    {
     "data": {
      "image/png": "[encoded data removed]",
      "text/plain": [
       "<matplotlib.figure.Figure at 0x11a349b00>"
      ]
     },
     "metadata": {},
     "output_type": "display_data"
    }
   ],
   "source": [
    "xgb.plot_importance(xgb_model_1)"
   ]
  },
  {
   "cell_type": "markdown",
   "metadata": {},
   "source": [
    "# Attempt to Tune XGBoost \n",
    "\n",
    "### Try setting up early stopping rounds to ensure overfitting is not happening"
   ]
  },
  {
   "cell_type": "code",
   "execution_count": 55,
   "metadata": {
    "collapsed": true
   },
   "outputs": [],
   "source": [
    "eval_set = [(encoded_X_test, y_test)]"
   ]
  },
  {
   "cell_type": "code",
   "execution_count": 57,
   "metadata": {},
   "outputs": [
    {
     "name": "stdout",
     "output_type": "stream",
     "text": [
      "[0]\tvalidation_0-logloss:0.616297\n",
      "Will train until validation_0-logloss hasn't improved in 10 rounds.\n",
      "[1]\tvalidation_0-logloss:0.553507\n",
      "[2]\tvalidation_0-logloss:0.501445\n",
      "[3]\tvalidation_0-logloss:0.45781\n",
      "[4]\tvalidation_0-logloss:0.42093\n",
      "[5]\tvalidation_0-logloss:0.389558\n",
      "[6]\tvalidation_0-logloss:0.362742\n",
      "[7]\tvalidation_0-logloss:0.339738\n",
      "[8]\tvalidation_0-logloss:0.319973\n",
      "[9]\tvalidation_0-logloss:0.302917\n",
      "[10]\tvalidation_0-logloss:0.288212\n",
      "[11]\tvalidation_0-logloss:0.275507\n",
      "[12]\tvalidation_0-logloss:0.264523\n",
      "[13]\tvalidation_0-logloss:0.25506\n",
      "[14]\tvalidation_0-logloss:0.246877\n",
      "[15]\tvalidation_0-logloss:0.239824\n",
      "[16]\tvalidation_0-logloss:0.233746\n",
      "[17]\tvalidation_0-logloss:0.228515\n",
      "[18]\tvalidation_0-logloss:0.224014\n",
      "[19]\tvalidation_0-logloss:0.220162\n",
      "[20]\tvalidation_0-logloss:0.216871\n",
      "[21]\tvalidation_0-logloss:0.214057\n",
      "[22]\tvalidation_0-logloss:0.211657\n",
      "[23]\tvalidation_0-logloss:0.209618\n",
      "[24]\tvalidation_0-logloss:0.207891\n",
      "[25]\tvalidation_0-logloss:0.206432\n",
      "[26]\tvalidation_0-logloss:0.205202\n",
      "[27]\tvalidation_0-logloss:0.204161\n",
      "[28]\tvalidation_0-logloss:0.203308\n",
      "[29]\tvalidation_0-logloss:0.202579\n",
      "[30]\tvalidation_0-logloss:0.201977\n",
      "[31]\tvalidation_0-logloss:0.201472\n",
      "[32]\tvalidation_0-logloss:0.201058\n",
      "[33]\tvalidation_0-logloss:0.20071\n",
      "[34]\tvalidation_0-logloss:0.200436\n",
      "[35]\tvalidation_0-logloss:0.200197\n",
      "[36]\tvalidation_0-logloss:0.200009\n",
      "[37]\tvalidation_0-logloss:0.199856\n",
      "[38]\tvalidation_0-logloss:0.199729\n",
      "[39]\tvalidation_0-logloss:0.199632\n",
      "[40]\tvalidation_0-logloss:0.199543\n",
      "[41]\tvalidation_0-logloss:0.199464\n",
      "[42]\tvalidation_0-logloss:0.19941\n",
      "[43]\tvalidation_0-logloss:0.199365\n",
      "[44]\tvalidation_0-logloss:0.199329\n",
      "[45]\tvalidation_0-logloss:0.1993\n",
      "[46]\tvalidation_0-logloss:0.199286\n",
      "[47]\tvalidation_0-logloss:0.199268\n",
      "[48]\tvalidation_0-logloss:0.199249\n",
      "[49]\tvalidation_0-logloss:0.199248\n",
      "[50]\tvalidation_0-logloss:0.199239\n",
      "[51]\tvalidation_0-logloss:0.199231\n",
      "[52]\tvalidation_0-logloss:0.199235\n",
      "[53]\tvalidation_0-logloss:0.199233\n",
      "[54]\tvalidation_0-logloss:0.199235\n",
      "[55]\tvalidation_0-logloss:0.199231\n",
      "[56]\tvalidation_0-logloss:0.199234\n",
      "[57]\tvalidation_0-logloss:0.199233\n",
      "[58]\tvalidation_0-logloss:0.199231\n",
      "[59]\tvalidation_0-logloss:0.19923\n",
      "[60]\tvalidation_0-logloss:0.199227\n",
      "[61]\tvalidation_0-logloss:0.199228\n",
      "[62]\tvalidation_0-logloss:0.199227\n",
      "[63]\tvalidation_0-logloss:0.199226\n",
      "[64]\tvalidation_0-logloss:0.199228\n",
      "[65]\tvalidation_0-logloss:0.199227\n",
      "[66]\tvalidation_0-logloss:0.199229\n",
      "[67]\tvalidation_0-logloss:0.199227\n",
      "[68]\tvalidation_0-logloss:0.199235\n",
      "[69]\tvalidation_0-logloss:0.199239\n",
      "[70]\tvalidation_0-logloss:0.199229\n",
      "[71]\tvalidation_0-logloss:0.19924\n",
      "[72]\tvalidation_0-logloss:0.199237\n",
      "[73]\tvalidation_0-logloss:0.199231\n",
      "Stopping. Best iteration:\n",
      "[63]\tvalidation_0-logloss:0.199226\n",
      "\n"
     ]
    },
    {
     "data": {
      "text/plain": [
       "XGBClassifier(base_score=0.5, booster='gbtree', colsample_bylevel=1,\n",
       "       colsample_bytree=1, gamma=0, learning_rate=0.1, max_delta_step=0,\n",
       "       max_depth=3, min_child_weight=1, missing=None, n_estimators=100,\n",
       "       n_jobs=1, nthread=None, objective='binary:logistic', random_state=0,\n",
       "       reg_alpha=0, reg_lambda=1, scale_pos_weight=1, seed=None,\n",
       "       silent=True, subsample=1)"
      ]
     },
     "execution_count": 57,
     "metadata": {},
     "output_type": "execute_result"
    }
   ],
   "source": [
    "xgb_model_1.fit(encoded_X_train, y_train, early_stopping_rounds=10, \n",
    "              eval_metric='logloss', eval_set=eval_set, verbose=True)"
   ]
  },
  {
   "cell_type": "code",
   "execution_count": 58,
   "metadata": {},
   "outputs": [
    {
     "data": {
      "text/plain": [
       "<matplotlib.axes._subplots.AxesSubplot at 0x11ca293c8>"
      ]
     },
     "execution_count": 58,
     "metadata": {},
     "output_type": "execute_result"
    },
    {
     "data": {
      "image/png": "[encoded data removed]",
      "text/plain": [
       "<matplotlib.figure.Figure at 0x11c9c3f98>"
      ]
     },
     "metadata": {},
     "output_type": "display_data"
    }
   ],
   "source": [
    "xgb.plot_importance(xgb_model_1)"
   ]
  },
  {
   "cell_type": "code",
   "execution_count": 60,
   "metadata": {},
   "outputs": [],
   "source": [
    "xgb_preds = xgb_model_1.predict_proba(encoded_X_test)"
   ]
  },
  {
   "cell_type": "code",
   "execution_count": null,
   "metadata": {
    "collapsed": true
   },
   "outputs": [],
   "source": []
  },
  {
   "cell_type": "code",
   "execution_count": null,
   "metadata": {
    "collapsed": true
   },
   "outputs": [],
   "source": []
  },
  {
   "cell_type": "code",
   "execution_count": null,
   "metadata": {
    "collapsed": true
   },
   "outputs": [],
   "source": []
  },
  {
   "cell_type": "code",
   "execution_count": 61,
   "metadata": {},
   "outputs": [
    {
     "data": {
      "text/plain": [
       "0.19922602697528141"
      ]
     },
     "execution_count": 61,
     "metadata": {},
     "output_type": "execute_result"
    }
   ],
   "source": [
    "ll = log_loss(y_test, xgb_preds)\n",
    "ll"
   ]
  },
  {
   "cell_type": "markdown",
   "metadata": {},
   "source": [
    "### Perform Gridsearch to find the best hyperparameters"
   ]
  },
  {
   "cell_type": "code",
   "execution_count": 62,
   "metadata": {
    "collapsed": true
   },
   "outputs": [],
   "source": [
    "n_estimators = [50, 100 ,150, 200]\n",
    "max_depth = [2, 4, 6, 8]\n",
    "learning_rate = [0.0001, 0.001, 0.01, 0.1, 0.2, 0.3]\n",
    "param_grid = dict(learning_rate=learning_rate, n_estimators=n_estimators, max_depth=max_depth)"
   ]
  },
  {
   "cell_type": "code",
   "execution_count": 63,
   "metadata": {
    "collapsed": true
   },
   "outputs": [],
   "source": [
    "kfold = StratifiedKFold(n_splits=10, shuffle=True, random_state=7)"
   ]
  },
  {
   "cell_type": "code",
   "execution_count": 65,
   "metadata": {},
   "outputs": [],
   "source": [
    "grid_search = GridSearchCV(xgb_model_1, param_grid, scoring=\"neg_log_loss\", n_jobs=-1, cv=kfold)"
   ]
  },
  {
   "cell_type": "code",
   "execution_count": null,
   "metadata": {
    "collapsed": true
   },
   "outputs": [],
   "source": [
    "gird_result = grid_search.fit(encoded_X_train, y_train)"
   ]
  },
  {
   "cell_type": "code",
   "execution_count": null,
   "metadata": {},
   "outputs": [],
   "source": [
    "print(gird_result.best_estimator_)"
   ]
  },
  {
   "cell_type": "markdown",
   "metadata": {},
   "source": [
    "#### Well, that was pretty useless...  Best parameters turn out to be the defaults"
   ]
  },
  {
   "cell_type": "code",
   "execution_count": null,
   "metadata": {
    "collapsed": true
   },
   "outputs": [],
   "source": []
  },
  {
   "cell_type": "code",
   "execution_count": null,
   "metadata": {
    "collapsed": true
   },
   "outputs": [],
   "source": []
  },
  {
   "cell_type": "markdown",
   "metadata": {},
   "source": [
    "# Interpreting Results "
   ]
  },
  {
   "cell_type": "markdown",
   "metadata": {},
   "source": [
    "### ROC"
   ]
  },
  {
   "cell_type": "code",
   "execution_count": null,
   "metadata": {
    "collapsed": true
   },
   "outputs": [],
   "source": [
    "fpr_xgb, tpr_xgb, _ = roc_curve(y_test, xgb_preds[:, 1])\n",
    "fpr_rf, tpr_rf, _ = roc_curve(y_test, rf_preds[:, 1])\n",
    "fpr_lr, tpr_lr, _ = roc_curve(y_test, lr_y_preds)"
   ]
  },
  {
   "cell_type": "code",
   "execution_count": null,
   "metadata": {},
   "outputs": [],
   "source": [
    "plt.figure(1)\n",
    "plt.plot([0, 1], [0, 1], 'k--')\n",
    "plt.plot(fpr_xgb, tpr_xgb, label='XGBoost')\n",
    "plt.plot(fpr_rf, tpr_rf, label='Random Forest')\n",
    "plt.plot(fpr_lr, tpr_lr, label='Logistic Regression')\n",
    "plt.xlabel('False positive rate')\n",
    "plt.ylabel('True positive rate')\n",
    "plt.title('ROC curve')\n",
    "plt.legend(loc='best')\n"
   ]
  },
  {
   "cell_type": "markdown",
   "metadata": {},
   "source": [
    "### Confusion Matrix"
   ]
  },
  {
   "cell_type": "code",
   "execution_count": null,
   "metadata": {
    "collapsed": true
   },
   "outputs": [],
   "source": [
    "def plot_confusion_matrix(cm, classes,\n",
    "                          normalize=False,\n",
    "                          title='Confusion matrix',\n",
    "                          cmap=plt.cm.Blues):\n",
    "    \"\"\"\n",
    "    This function prints and plots the confusion matrix.\n",
    "    Normalization can be applied by setting `normalize=True`.\n",
    "    \"\"\"\n",
    "    if normalize:\n",
    "        cm = cm.astype('float') / cm.sum(axis=1)[:, np.newaxis]\n",
    "        print(\"Normalized confusion matrix\")\n",
    "    else:\n",
    "        print('Confusion matrix, without normalization')\n",
    "\n",
    "    print(cm)\n",
    "\n",
    "    plt.imshow(cm, interpolation='nearest', cmap=cmap)\n",
    "    plt.title(title)\n",
    "    plt.colorbar()\n",
    "    tick_marks = np.arange(len(classes))\n",
    "    plt.xticks(tick_marks, classes, rotation=45)\n",
    "    plt.yticks(tick_marks, classes)\n",
    "\n",
    "    fmt = '.2f' if normalize else 'd'\n",
    "    thresh = cm.max() / 2.\n",
    "    for i, j in itertools.product(range(cm.shape[0]), range(cm.shape[1])):\n",
    "        plt.text(j, i, format(cm[i, j], fmt),\n",
    "                 horizontalalignment=\"center\",\n",
    "                 color=\"white\" if cm[i, j] > thresh else \"black\")\n",
    "\n",
    "    plt.ylabel('True label')\n",
    "    plt.xlabel('Predicted label')\n",
    "    plt.tight_layout()"
   ]
  },
  {
   "cell_type": "code",
   "execution_count": null,
   "metadata": {},
   "outputs": [],
   "source": [
    "cnf_matrix = confusion_matrix(y_test, lr_y_preds)"
   ]
  },
  {
   "cell_type": "code",
   "execution_count": null,
   "metadata": {},
   "outputs": [],
   "source": [
    "lr_y_preds"
   ]
  },
  {
   "cell_type": "code",
   "execution_count": null,
   "metadata": {
    "collapsed": true
   },
   "outputs": [],
   "source": []
  }
 ],
 "metadata": {
  "kernelspec": {
   "display_name": "Python 3",
   "language": "python",
   "name": "python3"
  },
  "language_info": {
   "codemirror_mode": {
    "name": "ipython",
    "version": 3
   },
   "file_extension": ".py",
   "mimetype": "text/x-python",
   "name": "python",
   "nbconvert_exporter": "python",
   "pygments_lexer": "ipython3",
   "version": "3.6.6"
  }
 },
 "nbformat": 4,
 "nbformat_minor": 2
}
